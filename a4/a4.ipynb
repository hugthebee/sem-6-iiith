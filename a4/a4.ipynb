{
 "cells": [
  {
   "cell_type": "markdown",
   "metadata": {},
   "source": [
    "**Name**: Sreeja Guduri <br>\n",
    "**Assignment - 4**<br>\n",
    "**Roll number**: 2021102007"
   ]
  },
  {
   "cell_type": "markdown",
   "metadata": {},
   "source": [
    "<h2><u>QUESTION-1</u></h2>\n",
    "<br>\n",
    "\n",
    "Link: https://colab.research.google.com/drive/1kqv7MQGv1Le-j3HLQGe1vYfX60Xhz6iv?usp=sharing\n"
   ]
  },
  {
   "cell_type": "markdown",
   "metadata": {},
   "source": [
    "<h2><u>QUESTION-2</u></h2>\n",
    "\n",
    "<br>\n",
    "Link: <a>https://www.kaggle.com/code/sreejaguduri/assignment4-cv</a>\n"
   ]
  }
 ],
 "metadata": {
  "kernelspec": {
   "display_name": "Python 3 (ipykernel)",
   "language": "python",
   "name": "python3"
  }
 },
 "nbformat": 4,
 "nbformat_minor": 2
}
